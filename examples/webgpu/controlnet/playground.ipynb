{
 "cells": [
  {
   "cell_type": "code",
   "execution_count": 7,
   "metadata": {},
   "outputs": [
    {
     "name": "stdout",
     "output_type": "stream",
     "text": [
      "240 16 3 0 0 0 0 0\n",
      "200944\n"
     ]
    }
   ],
   "source": [
    "import struct\n",
    "import os\n",
    "# Open the file in binary mode\n",
    "\n",
    "safetensor_file = \"./net.safetensors\"\n",
    "\n",
    "def get_meta_size(file):\n",
    "    with open(file, 'rb') as f:\n",
    "        # Read the first 8 bytes\n",
    "        bytes_data = f.read(8)\n",
    "        # print them as uint8 integers, convert hex to decimal\n",
    "        print(\" \".join([str(x) for x in bytes_data]))\n",
    "        # Unpack the bytes to a 64-bit unsigned integer\n",
    "        meta_size = struct.unpack('Q', bytes_data)[0]\n",
    "        return meta_size\n",
    "\n",
    "print(get_meta_size(safetensor_file))"
   ]
  },
  {
   "cell_type": "code",
   "execution_count": null,
   "metadata": {},
   "outputs": [],
   "source": []
  }
 ],
 "metadata": {
  "kernelspec": {
   "display_name": "webgpu-env",
   "language": "python",
   "name": "python3"
  },
  "language_info": {
   "codemirror_mode": {
    "name": "ipython",
    "version": 3
   },
   "file_extension": ".py",
   "mimetype": "text/x-python",
   "name": "python",
   "nbconvert_exporter": "python",
   "pygments_lexer": "ipython3",
   "version": "3.10.13"
  }
 },
 "nbformat": 4,
 "nbformat_minor": 2
}
